{
 "cells": [
  {
   "cell_type": "markdown",
   "id": "df0df309",
   "metadata": {},
   "source": [
    "# Bit Wise Operations-Tit-Bits\n"
   ]
  },
  {
   "cell_type": "markdown",
   "id": "4ac2910e",
   "metadata": {},
   "source": [
    " ## Statement : Right shift reduces the number by half : "
   ]
  },
  {
   "cell_type": "markdown",
   "id": "003e8f98",
   "metadata": {},
   "source": [
    "### LOGIC:  \n",
    "####  When you do right shift - > you move out 1 bit .\n",
    "As a result the impact bit is the leftmost bit moves to one less - power of 2  \n",
    "For instance if the 2^4 bit was on .. this now shifts itself into 2^3 . which is equivalent to Num/2^1 "
   ]
  },
  {
   "cell_type": "code",
   "execution_count": 4,
   "id": "4ce38f85",
   "metadata": {},
   "outputs": [
    {
     "data": {
      "text/plain": [
       "22"
      ]
     },
     "execution_count": 4,
     "metadata": {},
     "output_type": "execute_result"
    }
   ],
   "source": [
    " 45 >> 1"
   ]
  },
  {
   "cell_type": "code",
   "execution_count": 6,
   "id": "bfcbba15",
   "metadata": {},
   "outputs": [
    {
     "name": "stdout",
     "output_type": "stream",
     "text": [
      "45 in binary is 101101\n",
      "22 in binary is 10110\n"
     ]
    }
   ],
   "source": [
    "print ( '45 in binary is' , '{:b}'.format(45) )\n",
    "print ( '22 in binary is', '{:b}'.format(22))"
   ]
  },
  {
   "cell_type": "code",
   "execution_count": 8,
   "id": "4acef06d",
   "metadata": {},
   "outputs": [
    {
     "name": "stdout",
     "output_type": "stream",
     "text": [
      "44 in binary is 101100\n",
      "22 in binary is 10110\n"
     ]
    }
   ],
   "source": [
    "print ( '44 in binary is' , '{:b}'.format(44) )\n",
    "print ( '22 in binary is', '{:b}'.format(22))"
   ]
  },
  {
   "cell_type": "markdown",
   "id": "966ca52b",
   "metadata": {},
   "source": [
    "#### Note : 1 : The left Shift returns floor of Num/2 \n",
    "#### Explanation:     int(Num/2)\n",
    "    when the num is Odd , the zero bit is 1 and the  \n",
    "    zero bit is lost when we do rightshift hence it \n",
    "    results in Floor of num/2 \n",
    "    "
   ]
  },
  {
   "cell_type": "code",
   "execution_count": 14,
   "id": "cc06df51",
   "metadata": {},
   "outputs": [
    {
     "name": "stdout",
     "output_type": "stream",
     "text": [
      "3 in binary is 11\n",
      "1 in binary is 1\n"
     ]
    }
   ],
   "source": [
    "print ( '3 in binary is' , '{:b}'.format(3) )\n",
    "print ( '1 in binary is', '{:b}'.format(1))"
   ]
  },
  {
   "cell_type": "code",
   "execution_count": null,
   "id": "20258db1",
   "metadata": {},
   "outputs": [],
   "source": []
  }
 ],
 "metadata": {
  "kernelspec": {
   "display_name": "Python 3 (ipykernel)",
   "language": "python",
   "name": "python3"
  },
  "language_info": {
   "codemirror_mode": {
    "name": "ipython",
    "version": 3
   },
   "file_extension": ".py",
   "mimetype": "text/x-python",
   "name": "python",
   "nbconvert_exporter": "python",
   "pygments_lexer": "ipython3",
   "version": "3.10.5"
  }
 },
 "nbformat": 4,
 "nbformat_minor": 5
}
