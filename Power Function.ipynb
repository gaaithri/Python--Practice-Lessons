{
 "cells": [
  {
   "cell_type": "markdown",
   "id": "62fff575",
   "metadata": {},
   "source": [
    "# POWER FUNCTION "
   ]
  },
  {
   "cell_type": "markdown",
   "id": "e90646f8",
   "metadata": {},
   "source": [
    "####  1.The Power Function Implementation Provides An Insight Into how applying the DSA principles enables Optimisation  of Code.\n",
    "####    2.This Notebook shall showcase the bruteforce with time N^2 Complexity to log N Complexity \n",
    "\n"
   ]
  },
  {
   "cell_type": "markdown",
   "id": "5f7b108c",
   "metadata": {},
   "source": [
    "##### Time Complexity : log(n)\n",
    "##### Space Complexity: \n"
   ]
  },
  {
   "cell_type": "code",
   "execution_count": 71,
   "id": "c7e248a3",
   "metadata": {},
   "outputs": [],
   "source": [
    "def pow_val(A, B):\n",
    "    res = 1\n",
    "    exponent= B\n",
    "    base = A\n",
    "    print('Base:',base, 'Exponent:', B)\n",
    "\n",
    "\n",
    "    while B > 0:\n",
    "        if B==0:\n",
    "            return 1\n",
    "        elif B==1:\n",
    "            return base\n",
    "        elif B%2 == 1:\n",
    "            res =  (res * base)\n",
    "            print( 'Base:',base, 'Exponent:', B)\n",
    "        B = B >> 1\n",
    "        elif B >0:\n",
    "            base = (base*base)\n",
    "            print( 'Base:',base, 'Exponent:', B)\n",
    "    return res\n",
    "   \n",
    "    \n",
    "   "
   ]
  },
  {
   "cell_type": "code",
   "execution_count": 80,
   "id": "fd60abb0",
   "metadata": {},
   "outputs": [],
   "source": [
    "def input_func(A,B):\n",
    "    val = pow_val(A, B)\n",
    "    print(A, '^', B ,' = ',val)\n"
   ]
  },
  {
   "cell_type": "code",
   "execution_count": 83,
   "id": "e9797030",
   "metadata": {},
   "outputs": [
    {
     "name": "stdout",
     "output_type": "stream",
     "text": [
      "Base: 3 Exponent: 8\n",
      "Base: 9 Exponent: 4\n",
      "Base: 81 Exponent: 2\n",
      "Base: 6561 Exponent: 1\n",
      "3 ^ 8  =  6561\n"
     ]
    }
   ],
   "source": [
    "input_func(3,8)"
   ]
  },
  {
   "cell_type": "code",
   "execution_count": 84,
   "id": "ea0cc587",
   "metadata": {},
   "outputs": [
    {
     "name": "stdout",
     "output_type": "stream",
     "text": [
      "Base: 12 Exponent: 11\n",
      "Base: 12 Exponent: 11\n",
      "Base: 144 Exponent: 5\n",
      "Base: 144 Exponent: 5\n",
      "Base: 20736 Exponent: 2\n",
      "Base: 429981696 Exponent: 1\n",
      "12 ^ 11  =  429981696\n"
     ]
    }
   ],
   "source": [
    "input_func(12,11)"
   ]
  },
  {
   "cell_type": "markdown",
   "id": "12d33fb5",
   "metadata": {},
   "source": [
    "#####  The Answer is arrived in Power/2 steps  as printed above\n",
    "therefoe TC = log(n)"
   ]
  },
  {
   "cell_type": "markdown",
   "id": "6613d153",
   "metadata": {},
   "source": [
    "#### Probable Doubts or Questions : \n",
    "##### 1. Why the res is intialised to 1? :\n",
    "Identity property,As the basic Operation is multiplication ,the default value of 1 results in no change to ouput whatsover. \n",
    "##### 2. The left Shift operator : \n",
    " Used to divide the exponent value by 2 to prevent overflow \n",
    "###### Exponent Additive Property : \n",
    "A^B/2 * A^B/2 = A^(B/2+B/2)= A^B\n",
    "\n"
   ]
  },
  {
   "cell_type": "markdown",
   "id": "91f7ba73",
   "metadata": {},
   "source": [
    "##### Note:\n",
    "Based on the Identity Property \n",
    "###### 1. Basic Addition or Subtraction Operation \n",
    "- Variables Default Intialised to 0 \n",
    "\n",
    "###### 2 .Basic Multiplication or Division Operation \n",
    "- Variables Default Intialised to 1\n",
    "\n"
   ]
  },
  {
   "cell_type": "markdown",
   "id": "36dcc830",
   "metadata": {},
   "source": [
    "## Implementation 2:"
   ]
  },
  {
   "cell_type": "markdown",
   "id": "246262d1",
   "metadata": {},
   "source": [
    "### Brute Force\n"
   ]
  },
  {
   "cell_type": "code",
   "execution_count": null,
   "id": "106fe1b2",
   "metadata": {},
   "outputs": [],
   "source": []
  }
 ],
 "metadata": {
  "kernelspec": {
   "display_name": "Python 3 (ipykernel)",
   "language": "python",
   "name": "python3"
  },
  "language_info": {
   "codemirror_mode": {
    "name": "ipython",
    "version": 3
   },
   "file_extension": ".py",
   "mimetype": "text/x-python",
   "name": "python",
   "nbconvert_exporter": "python",
   "pygments_lexer": "ipython3",
   "version": "3.10.5"
  }
 },
 "nbformat": 4,
 "nbformat_minor": 5
}
